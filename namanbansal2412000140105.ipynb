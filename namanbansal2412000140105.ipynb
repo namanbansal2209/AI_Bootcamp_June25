{
  "nbformat": 4,
  "nbformat_minor": 0,
  "metadata": {
    "colab": {
      "provenance": [],
      "toc_visible": true
    },
    "kernelspec": {
      "name": "python3",
      "display_name": "Python 3"
    },
    "language_info": {
      "name": "python"
    }
  },
  "cells": [
    {
      "cell_type": "code",
      "execution_count": 5,
      "metadata": {
        "colab": {
          "base_uri": "https://localhost:8080/"
        },
        "id": "shZ_mIAycqaV",
        "outputId": "d4e9a012-f455-46dd-b76b-a4a6122661e6"
      },
      "outputs": [
        {
          "output_type": "stream",
          "name": "stdout",
          "text": [
            "Hello World!\n",
            "My name is Naman\n"
          ]
        }
      ],
      "source": [
        "print(\"Hello World!\")\n",
        "print(\"My name is Naman\")"
      ]
    },
    {
      "cell_type": "code",
      "source": [
        "print(\"Hey there!\")"
      ],
      "metadata": {
        "colab": {
          "base_uri": "https://localhost:8080/"
        },
        "id": "7fKkWYeZeFI6",
        "outputId": "2752d0f6-a4a2-4412-dc91-70d84c2cb628"
      },
      "execution_count": 6,
      "outputs": [
        {
          "output_type": "stream",
          "name": "stdout",
          "text": [
            "Hey there!\n"
          ]
        }
      ]
    }
  ]
}